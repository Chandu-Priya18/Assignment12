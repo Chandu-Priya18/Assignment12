{
  "nbformat": 4,
  "nbformat_minor": 0,
  "metadata": {
    "colab": {
      "name": "Assignment12",
      "provenance": [],
      "collapsed_sections": []
    },
    "kernelspec": {
      "name": "python3",
      "display_name": "Python 3"
    }
  },
  "cells": [
    {
      "cell_type": "code",
      "metadata": {
        "id": "QCvemiwoJkxT",
        "colab_type": "code",
        "colab": {
          "base_uri": "https://localhost:8080/",
          "height": 34
        },
        "outputId": "255bd74a-005d-4421-de69-bdbd283567a2"
      },
      "source": [
        "#python program to sum all the items in dictionary\n",
        "my_dict = {'data1':100,'data2':-54,'data3':247}\n",
        "print(sum(my_dict.values()))"
      ],
      "execution_count": 1,
      "outputs": [
        {
          "output_type": "stream",
          "text": [
            "293\n"
          ],
          "name": "stdout"
        }
      ]
    },
    {
      "cell_type": "code",
      "metadata": {
        "id": "yPIQs3d2KDHG",
        "colab_type": "code",
        "colab": {
          "base_uri": "https://localhost:8080/",
          "height": 34
        },
        "outputId": "192b124d-a2c6-42b3-b9c0-017bf83875e6"
      },
      "source": [
        "#python program to sum all the items in dictionary\n",
        "def returnSum(myDict): \n",
        "      \n",
        "    sum = 0\n",
        "    for i in myDict: \n",
        "        sum = sum + myDict[i] \n",
        "      \n",
        "    return sum\n",
        "  \n",
        "dict = {'a': 100, 'b':200, 'c':300} \n",
        "print(\"Sum :\", returnSum(dict)) "
      ],
      "execution_count": 3,
      "outputs": [
        {
          "output_type": "stream",
          "text": [
            "Sum : 600\n"
          ],
          "name": "stdout"
        }
      ]
    },
    {
      "cell_type": "code",
      "metadata": {
        "id": "QHMhMngbKUDt",
        "colab_type": "code",
        "colab": {
          "base_uri": "https://localhost:8080/",
          "height": 85
        },
        "outputId": "4b8ab859-c566-431a-8d16-5b14d2712d0a"
      },
      "source": [
        "# Python program to demonstrate accessing a element from a Dictionary  \n",
        "  \n",
        "# Creating a Dictionary  \n",
        "Dict = {1: 'Geeks', 'name': 'For', 3: 'Geeks'} \n",
        "  \n",
        "# accessing a element using key \n",
        "print(\"Accessing a element using key:\") \n",
        "print(Dict['name']) \n",
        "  \n",
        "# accessing a element using key \n",
        "print(\"Accessing a element using key:\") \n",
        "print(Dict[1]) "
      ],
      "execution_count": 5,
      "outputs": [
        {
          "output_type": "stream",
          "text": [
            "Accessing a element using key:\n",
            "For\n",
            "Accessing a element using key:\n",
            "Geeks\n"
          ],
          "name": "stdout"
        }
      ]
    },
    {
      "cell_type": "code",
      "metadata": {
        "id": "x0gbxXA2MJGX",
        "colab_type": "code",
        "colab": {
          "base_uri": "https://localhost:8080/",
          "height": 34
        },
        "outputId": "767987a5-e5a7-471d-dc5a-88b01de43a21"
      },
      "source": [
        "#python program to concat two dictionaries\n",
        "dict_first = {'One':1, 'Two':2, 'Three':3, 'Four':4, 'Five':5}\n",
        "dict_second = {'Six':6, 'Seven':7, 'Eight':8, 'Nine':9, 'Ten':10}\n",
        "\n",
        "dict_first.update(dict_second)\n",
        "\n",
        "print(\"Final dictionary after concatenation : \",dict_first)"
      ],
      "execution_count": 8,
      "outputs": [
        {
          "output_type": "stream",
          "text": [
            "Final dictionary after concatenation :  {'One': 1, 'Two': 2, 'Three': 3, 'Four': 4, 'Five': 5, 'Six': 6, 'Seven': 7, 'Eight': 8, 'Nine': 9, 'Ten': 10}\n"
          ],
          "name": "stdout"
        }
      ]
    },
    {
      "cell_type": "code",
      "metadata": {
        "id": "qlNeAdAmOinj",
        "colab_type": "code",
        "colab": {
          "base_uri": "https://localhost:8080/",
          "height": 68
        },
        "outputId": "054c85bf-6a10-461f-c84d-220ada7162e5"
      },
      "source": [
        "# Python program to find length of the dictionary \n",
        "  \n",
        "  \n",
        "# a simple dictionary \n",
        "dict1 ={'Name':'Steve', 'Age':30, 'Designation':'Programmer'} \n",
        "  \n",
        "# using len() counts the \n",
        "# number of entries \n",
        "print(\"len() method :\", len(dict1)) \n",
        "  \n",
        "# using dict.keys() counts \n",
        "# the no.of.keys in dictionary \n",
        "print(\"len() method with keys() :\", len(dict1.keys())) \n",
        "  \n",
        "# using dict.values() counts \n",
        "# the no.of.valuess in dictionary \n",
        "print(\"len() method with values():\", len(dict1.values())) "
      ],
      "execution_count": 12,
      "outputs": [
        {
          "output_type": "stream",
          "text": [
            "len() method : 3\n",
            "len() method with keys() : 3\n",
            "len() method with values(): 3\n"
          ],
          "name": "stdout"
        }
      ]
    },
    {
      "cell_type": "code",
      "metadata": {
        "id": "7L7eQ9boOtVu",
        "colab_type": "code",
        "colab": {
          "base_uri": "https://localhost:8080/",
          "height": 51
        },
        "outputId": "ac41b1ef-c382-4d15-8650-c1ffeccac01c"
      },
      "source": [
        "#python program to remove items from the dictionary\n",
        "myDict = {'a':1,'b':2,'c':3,'d':4}\n",
        "print(myDict)\n",
        "if 'a' in myDict: \n",
        "    del myDict['a']\n",
        "print(myDict)"
      ],
      "execution_count": 13,
      "outputs": [
        {
          "output_type": "stream",
          "text": [
            "{'a': 1, 'b': 2, 'c': 3, 'd': 4}\n",
            "{'b': 2, 'c': 3, 'd': 4}\n"
          ],
          "name": "stdout"
        }
      ]
    },
    {
      "cell_type": "code",
      "metadata": {
        "id": "Vh4YDhFzPKX6",
        "colab_type": "code",
        "colab": {}
      },
      "source": [
        ""
      ],
      "execution_count": null,
      "outputs": []
    }
  ]
}